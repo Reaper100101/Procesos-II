{
 "cells": [
  {
   "cell_type": "markdown",
   "metadata": {},
   "source": [
    "# Modelo teórico.\n",
    "\n",
    "Para dicho modelo vamos a tener lo siguiente:\n",
    "\n",
    "$$N_{Az}=-D_{AB}\\frac{dC_A}{dz}$$\n",
    "\n",
    "$$-r_A=kC_A$$\n",
    "\n",
    "Por un Balance de masa de A, tengo: \n",
    "\n",
    "$$VA = FE - FS + RP - RC$$\n",
    "\n",
    "$$0 = N_{Az}Rd\\theta dR - \\left(N_{Az}Rd\\theta dR + \\frac{N_{Az}Rd\\theta dR}{dz}dz\\right) + 0 - (-r_A)Rd\\theta dRdz$$\n",
    "\n",
    "Simplificando:\n",
    "\n",
    "$$0 = \\frac{dN_{Az}}{dz} + (-r_A)$$\n",
    "\n",
    "Sustituyendo valores:\n",
    "\n",
    "$$0 = \\frac{d^2C_A}{dz^2} - \\frac{k}{D}C_A$$\n",
    "\n",
    "Considero agrupar las constantes en un solo término:\n",
    "\n",
    "$$m = \\sqrt{\\frac{k}{D}}$$\n",
    "\n",
    "Obtengo:\n",
    "\n",
    "$$0 = \\frac{d^2C_A}{dz^2} - m^2C_A$$\n",
    "\n",
    "Resulevo la EDO lineal de coeficientes constantes, por lo que me queda:\n",
    "\n",
    "$$C_A = Cte_1\\sinh(mz) + Cte_2\\cosh(mz)$$\n",
    "\n",
    "Considerando las condiciones contorno obtengo:\n",
    "\n",
    "-Para: $$z = 0 \\ y \\ C_A=(C_A)_0$$\n",
    "\n",
    "$$Cte_2 = (C_A)_0$$\n",
    "\n",
    "-Para: $$z = L \\ y \\ C_A=a(C_A)_0$$\n",
    "\n",
    "$$Cte_1 = \\frac{a(C_A)_0}{\\sinh(mL)} - \\frac{(C_A)_0\\cosh(mL)}{\\sinh(mL)}$$\n",
    "\n",
    "Sustituyendo en la ecuación para la concentración de A:\n",
    "\n",
    "$$C_A = \\left(\\frac{a(C_A)_0}{\\sinh(mL)} - \\frac{(C_A)_0\\cosh(mL)}{\\sinh(mL)}\\right)\\sinh(mz) + (C_A)_0\\cosh(mz)$$\n",
    "\n",
    "Agrupando y simplificando la ecuación anterior, obtengo:\n",
    "\n",
    "$$C_A = (C_A)_0\\left(\\frac{a\\sinh(mz)}{\\sinh(mL)} + \\frac{\\sinh(m(L - z)}{\\sinh(mL)}\\right)$$\n",
    "\n",
    "Esta ecuación para la concetración de A, se empleará para el desarrollo del código, el cual está dado por:"
   ]
  },
  {
   "cell_type": "code",
   "execution_count": 1,
   "metadata": {},
   "outputs": [
    {
     "data": {
      "image/png": "[encoded data removed]",
      "text/plain": [
       "<Figure size 504x360 with 1 Axes>"
      ]
     },
     "metadata": {
      "needs_background": "light"
     },
     "output_type": "display_data"
    }
   ],
   "source": [
    "import numpy as np\n",
    "import matplotlib.pyplot as plt\n",
    "\n",
    "z1 = 0 #m\n",
    "L = 18.10 #m\n",
    "zf = 2.04 #m\n",
    "k = 0.0031 #s^-1\n",
    "D = 0.0086305 #m2/s\n",
    "h = 0.02 #m\n",
    "C0 = 58.42 #kmol/m3\n",
    "a = 0.32\n",
    "z = np.arange(z1, L, h)\n",
    "m = np.sqrt(k/D)\n",
    "\n",
    "def C(z):\n",
    "  return C0*(a*(np.sinh(m*z)/np.sinh(m*L))+(np.sinh(m*(L-z))/np.sinh(m*L)))\n",
    "\n",
    "Teo = C(zf)\n",
    "\n",
    "plt.figure(figsize=(7,5))\n",
    "plt.plot(z,C(z))\n",
    "plt.title(\"Gráfica de la concentración de A en función de la distancia z.\", fontsize=13)\n",
    "plt.xlabel(\"z [m]\", fontsize=13)\n",
    "plt.ylabel(\"C [kmol/m^3]\", fontsize=13)\n",
    "plt.show()"
   ]
  },
  {
   "cell_type": "code",
   "execution_count": 2,
   "metadata": {},
   "outputs": [
    {
     "name": "stdout",
     "output_type": "stream",
     "text": [
      "El valor para la derivada de la ecuación encontrada por el modelo teórico en z = z1 es de: -35.01\n",
      "Este valor será empleado para la resolución por el método Runge-Kutta 4.\n"
     ]
    }
   ],
   "source": [
    "def Derivada(f,h,t):\n",
    "    c1=f(t-h)\n",
    "    c2=f(t+h)\n",
    "    dC=(c2-c1)/(2*h)\n",
    "    return dC\n",
    "q0 = Derivada(C,h,0)\n",
    "print(\"El valor para la derivada de la ecuación encontrada por el modelo teórico en z = z1 es de: \" + str(round(q0,2)) + \"\\nEste valor será empleado para la resolución por el método Runge-Kutta 4.\")"
   ]
  },
  {
   "cell_type": "code",
   "execution_count": 3,
   "metadata": {},
   "outputs": [
    {
     "name": "stdout",
     "output_type": "stream",
     "text": [
      "El valor para la concentración de A encontrada por el método de Runge-Kutta 4 en z = 2.04 es de: 17.2 kmol/m^3\n"
     ]
    }
   ],
   "source": [
    "f = lambda x: k*x/D\n",
    "\n",
    "def R_K_4(f,zf):\n",
    "    q = q0\n",
    "    x = C0\n",
    "    v = z1\n",
    "    while v <= zf:\n",
    "        l1 = h*q\n",
    "        k1 = h*f(x)\n",
    "        l2 = h*(q + k1/2)\n",
    "        k2 = h*f(x + l1/2)\n",
    "        l3 = h*(q + k2/2)\n",
    "        k3 = h*f(x + l2/2)\n",
    "        l4 = h*(q + k3)\n",
    "        k4 = h*f(x + l3)\n",
    "        q = q + (k1+2*k2+2*k3+k4)/6\n",
    "        x = x + (l1+2*l2+2*l3+l4)/6\n",
    "        v = v + h\n",
    "    return x\n",
    "\n",
    "RK4 = R_K_4(f,zf)\n",
    "\n",
    "print(\"El valor para la concentración de A encontrada por el método de Runge-Kutta 4 en z = 2.04 es de: \" + str(round(RK4,2)) + \" kmol/m^3\")"
   ]
  },
  {
   "cell_type": "code",
   "execution_count": 4,
   "metadata": {},
   "outputs": [
    {
     "name": "stdout",
     "output_type": "stream",
     "text": [
      "El porcentaje de error de la respuesta obtenida por el método de Runge-Kutta 4 es de: 0.0126 %\n"
     ]
    }
   ],
   "source": [
    "error = (abs(RK4-Teo)/Teo)*100\n",
    "error\n",
    "\n",
    "print(\"El porcentaje de error de la respuesta obtenida por el método de Runge-Kutta 4 es de: \" + str(round(error,4)) + \" %\")"
   ]
  }
 ],
 "metadata": {
  "kernelspec": {
   "display_name": "Python 3",
   "language": "python",
   "name": "python3"
  },
  "language_info": {
   "codemirror_mode": {
    "name": "ipython",
    "version": 3
   },
   "file_extension": ".py",
   "mimetype": "text/x-python",
   "name": "python",
   "nbconvert_exporter": "python",
   "pygments_lexer": "ipython3",
   "version": "3.8.5"
  }
 },
 "nbformat": 4,
 "nbformat_minor": 4
}
